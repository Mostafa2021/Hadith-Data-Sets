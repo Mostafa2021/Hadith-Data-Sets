{
  "nbformat": 4,
  "nbformat_minor": 5,
  "metadata": {
    "kernelspec": {
      "name": "python3",
      "display_name": "Python 3.10.0 64-bit"
    },
    "language_info": {
      "codemirror_mode": {
        "name": "ipython",
        "version": 3
      },
      "file_extension": ".py",
      "mimetype": "text/x-python",
      "name": "python",
      "nbconvert_exporter": "python",
      "pygments_lexer": "ipython3",
      "version": "3.10.0"
    },
    "colab": {
      "name": "Arabic_News.ipynb",
      "provenance": [],
      "collapsed_sections": [],
      "include_colab_link": true
    },
    "interpreter": {
      "hash": "aee8b7b246df8f9039afb4144a1f6fd8d2ca17a180786b69acc140d282b71a49"
    }
  },
  "cells": [
    {
      "cell_type": "markdown",
      "metadata": {
        "id": "view-in-github",
        "colab_type": "text"
      },
      "source": [
        "<a href=\"https://colab.research.google.com/github/Mostafa2021/Hadith-Data-Sets/blob/master/Arabic_News.ipynb\" target=\"_parent\"><img src=\"https://colab.research.google.com/assets/colab-badge.svg\" alt=\"Open In Colab\"/></a>"
      ]
    },
    {
      "cell_type": "markdown",
      "source": [
        "# **Installing required libraries**"
      ],
      "metadata": {
        "id": "4va6BRl4UgTI"
      },
      "id": "4va6BRl4UgTI"
    },
    {
      "cell_type": "code",
      "execution_count": 1,
      "source": [
        "import sys\n",
        "!{sys.executable} -m pip install pandas\n",
        "!{sys.executable} -m pip install numpy\n",
        "!{sys.executable} -m pip install nltk\n",
        "!{sys.executable} -m pip install matplotlib\n",
        "!{sys.executable} -m pip install sklearn\n",
        "!{sys.executable} -m pip install plotly\n",
        "!{sys.executable} -m pip install seaborn\n",
        "!{sys.executable} -m pip install TextBlob\n",
        "!python -m textblob.download_corpora\n",
        "!pip install git+https://github.com/tweepy/tweepy.git\n",
        "!pip install tqdm\n",
        "!pip install arabic_reshaper\n",
        "!pip install python-bidi"
      ],
      "outputs": [
        {
          "output_type": "stream",
          "name": "stdout",
          "text": [
            "Requirement already satisfied: pandas in /usr/local/lib/python3.7/dist-packages (1.1.5)\n",
            "Requirement already satisfied: python-dateutil>=2.7.3 in /usr/local/lib/python3.7/dist-packages (from pandas) (2.8.2)\n",
            "Requirement already satisfied: pytz>=2017.2 in /usr/local/lib/python3.7/dist-packages (from pandas) (2018.9)\n",
            "Requirement already satisfied: numpy>=1.15.4 in /usr/local/lib/python3.7/dist-packages (from pandas) (1.19.5)\n",
            "Requirement already satisfied: six>=1.5 in /usr/local/lib/python3.7/dist-packages (from python-dateutil>=2.7.3->pandas) (1.15.0)\n",
            "Requirement already satisfied: numpy in /usr/local/lib/python3.7/dist-packages (1.19.5)\n",
            "Requirement already satisfied: nltk in /usr/local/lib/python3.7/dist-packages (3.2.5)\n",
            "Requirement already satisfied: six in /usr/local/lib/python3.7/dist-packages (from nltk) (1.15.0)\n",
            "Requirement already satisfied: matplotlib in /usr/local/lib/python3.7/dist-packages (3.2.2)\n",
            "Requirement already satisfied: kiwisolver>=1.0.1 in /usr/local/lib/python3.7/dist-packages (from matplotlib) (1.3.2)\n",
            "Requirement already satisfied: pyparsing!=2.0.4,!=2.1.2,!=2.1.6,>=2.0.1 in /usr/local/lib/python3.7/dist-packages (from matplotlib) (3.0.6)\n",
            "Requirement already satisfied: python-dateutil>=2.1 in /usr/local/lib/python3.7/dist-packages (from matplotlib) (2.8.2)\n",
            "Requirement already satisfied: cycler>=0.10 in /usr/local/lib/python3.7/dist-packages (from matplotlib) (0.11.0)\n",
            "Requirement already satisfied: numpy>=1.11 in /usr/local/lib/python3.7/dist-packages (from matplotlib) (1.19.5)\n",
            "Requirement already satisfied: six>=1.5 in /usr/local/lib/python3.7/dist-packages (from python-dateutil>=2.1->matplotlib) (1.15.0)\n",
            "Requirement already satisfied: sklearn in /usr/local/lib/python3.7/dist-packages (0.0)\n",
            "Requirement already satisfied: scikit-learn in /usr/local/lib/python3.7/dist-packages (from sklearn) (1.0.1)\n",
            "Requirement already satisfied: threadpoolctl>=2.0.0 in /usr/local/lib/python3.7/dist-packages (from scikit-learn->sklearn) (3.0.0)\n",
            "Requirement already satisfied: joblib>=0.11 in /usr/local/lib/python3.7/dist-packages (from scikit-learn->sklearn) (1.1.0)\n",
            "Requirement already satisfied: scipy>=1.1.0 in /usr/local/lib/python3.7/dist-packages (from scikit-learn->sklearn) (1.4.1)\n",
            "Requirement already satisfied: numpy>=1.14.6 in /usr/local/lib/python3.7/dist-packages (from scikit-learn->sklearn) (1.19.5)\n",
            "Requirement already satisfied: plotly in /usr/local/lib/python3.7/dist-packages (4.4.1)\n",
            "Requirement already satisfied: six in /usr/local/lib/python3.7/dist-packages (from plotly) (1.15.0)\n",
            "Requirement already satisfied: retrying>=1.3.3 in /usr/local/lib/python3.7/dist-packages (from plotly) (1.3.3)\n",
            "Requirement already satisfied: seaborn in /usr/local/lib/python3.7/dist-packages (0.11.2)\n",
            "Requirement already satisfied: matplotlib>=2.2 in /usr/local/lib/python3.7/dist-packages (from seaborn) (3.2.2)\n",
            "Requirement already satisfied: pandas>=0.23 in /usr/local/lib/python3.7/dist-packages (from seaborn) (1.1.5)\n",
            "Requirement already satisfied: numpy>=1.15 in /usr/local/lib/python3.7/dist-packages (from seaborn) (1.19.5)\n",
            "Requirement already satisfied: scipy>=1.0 in /usr/local/lib/python3.7/dist-packages (from seaborn) (1.4.1)\n",
            "Requirement already satisfied: python-dateutil>=2.1 in /usr/local/lib/python3.7/dist-packages (from matplotlib>=2.2->seaborn) (2.8.2)\n",
            "Requirement already satisfied: pyparsing!=2.0.4,!=2.1.2,!=2.1.6,>=2.0.1 in /usr/local/lib/python3.7/dist-packages (from matplotlib>=2.2->seaborn) (3.0.6)\n",
            "Requirement already satisfied: cycler>=0.10 in /usr/local/lib/python3.7/dist-packages (from matplotlib>=2.2->seaborn) (0.11.0)\n",
            "Requirement already satisfied: kiwisolver>=1.0.1 in /usr/local/lib/python3.7/dist-packages (from matplotlib>=2.2->seaborn) (1.3.2)\n",
            "Requirement already satisfied: pytz>=2017.2 in /usr/local/lib/python3.7/dist-packages (from pandas>=0.23->seaborn) (2018.9)\n",
            "Requirement already satisfied: six>=1.5 in /usr/local/lib/python3.7/dist-packages (from python-dateutil>=2.1->matplotlib>=2.2->seaborn) (1.15.0)\n",
            "Requirement already satisfied: TextBlob in /usr/local/lib/python3.7/dist-packages (0.15.3)\n",
            "Requirement already satisfied: nltk>=3.1 in /usr/local/lib/python3.7/dist-packages (from TextBlob) (3.2.5)\n",
            "Requirement already satisfied: six in /usr/local/lib/python3.7/dist-packages (from nltk>=3.1->TextBlob) (1.15.0)\n",
            "[nltk_data] Downloading package brown to /root/nltk_data...\n",
            "[nltk_data]   Package brown is already up-to-date!\n",
            "[nltk_data] Downloading package punkt to /root/nltk_data...\n",
            "[nltk_data]   Package punkt is already up-to-date!\n",
            "[nltk_data] Downloading package wordnet to /root/nltk_data...\n",
            "[nltk_data]   Package wordnet is already up-to-date!\n",
            "[nltk_data] Downloading package averaged_perceptron_tagger to\n",
            "[nltk_data]     /root/nltk_data...\n",
            "[nltk_data]   Package averaged_perceptron_tagger is already up-to-\n",
            "[nltk_data]       date!\n",
            "[nltk_data] Downloading package conll2000 to /root/nltk_data...\n",
            "[nltk_data]   Package conll2000 is already up-to-date!\n",
            "[nltk_data] Downloading package movie_reviews to /root/nltk_data...\n",
            "[nltk_data]   Package movie_reviews is already up-to-date!\n",
            "Finished.\n",
            "Collecting git+https://github.com/tweepy/tweepy.git\n",
            "  Cloning https://github.com/tweepy/tweepy.git to /tmp/pip-req-build-m7ikkf6b\n",
            "  Running command git clone -q https://github.com/tweepy/tweepy.git /tmp/pip-req-build-m7ikkf6b\n",
            "Requirement already satisfied: requests<3,>=2.11.1 in /usr/local/lib/python3.7/dist-packages (from tweepy==4.4.0) (2.23.0)\n",
            "Requirement already satisfied: requests_oauthlib<2,>=1.0.0 in /usr/local/lib/python3.7/dist-packages (from tweepy==4.4.0) (1.3.0)\n",
            "Requirement already satisfied: idna<3,>=2.5 in /usr/local/lib/python3.7/dist-packages (from requests<3,>=2.11.1->tweepy==4.4.0) (2.10)\n",
            "Requirement already satisfied: urllib3!=1.25.0,!=1.25.1,<1.26,>=1.21.1 in /usr/local/lib/python3.7/dist-packages (from requests<3,>=2.11.1->tweepy==4.4.0) (1.24.3)\n",
            "Requirement already satisfied: chardet<4,>=3.0.2 in /usr/local/lib/python3.7/dist-packages (from requests<3,>=2.11.1->tweepy==4.4.0) (3.0.4)\n",
            "Requirement already satisfied: certifi>=2017.4.17 in /usr/local/lib/python3.7/dist-packages (from requests<3,>=2.11.1->tweepy==4.4.0) (2021.10.8)\n",
            "Requirement already satisfied: oauthlib>=3.0.0 in /usr/local/lib/python3.7/dist-packages (from requests_oauthlib<2,>=1.0.0->tweepy==4.4.0) (3.1.1)\n",
            "Requirement already satisfied: tqdm in /usr/local/lib/python3.7/dist-packages (4.62.3)\n",
            "Requirement already satisfied: arabic_reshaper in /usr/local/lib/python3.7/dist-packages (2.1.3)\n",
            "Requirement already satisfied: future in /usr/local/lib/python3.7/dist-packages (from arabic_reshaper) (0.16.0)\n",
            "Requirement already satisfied: setuptools in /usr/local/lib/python3.7/dist-packages (from arabic_reshaper) (57.4.0)\n",
            "Requirement already satisfied: python-bidi in /usr/local/lib/python3.7/dist-packages (0.4.2)\n",
            "Requirement already satisfied: six in /usr/local/lib/python3.7/dist-packages (from python-bidi) (1.15.0)\n"
          ]
        }
      ],
      "metadata": {
        "id": "6e2e3709",
        "colab": {
          "base_uri": "https://localhost:8080/"
        },
        "outputId": "2afb2087-e858-491d-c558-b40d20bfd3c2"
      },
      "id": "6e2e3709"
    },
    {
      "cell_type": "markdown",
      "source": [
        "# **Step 1: Import important libraries**"
      ],
      "metadata": {
        "id": "k9LeEEVFUmPy"
      },
      "id": "k9LeEEVFUmPy"
    },
    {
      "cell_type": "code",
      "execution_count": 2,
      "source": [
        "#utilities\n",
        "import os\n",
        "import pandas as pd\n",
        "import numpy as np\n",
        "import tweepy\n",
        "from tqdm import tqdm\n",
        "import csv\n",
        "import string\n",
        "import re\n",
        "import json\n",
        "import requests\n",
        "import arabic_reshaper\n",
        "from bidi.algorithm import get_display\n",
        "from nltk.stem import WordNetLemmatizer\n",
        "from nltk.tokenize import RegexpTokenizer # devide the words \n",
        "from collections import Counter #count the number of word for each list \n",
        "import nltk\n",
        "from nltk.corpus import stopwords\n",
        "nltk.download('stopwords')\n",
        "from textblob import TextBlob\n",
        "import matplotlib.pyplot as plt\n",
        "import plotly.graph_objects as px\n",
        "\n",
        "%matplotlib inline"
      ],
      "outputs": [
        {
          "output_type": "stream",
          "name": "stdout",
          "text": [
            "[nltk_data] Downloading package stopwords to /root/nltk_data...\n",
            "[nltk_data]   Package stopwords is already up-to-date!\n"
          ]
        }
      ],
      "metadata": {
        "colab": {
          "base_uri": "https://localhost:8080/"
        },
        "id": "711fcd05",
        "outputId": "3876545d-13c9-4db0-810a-2aa81cc18094"
      },
      "id": "711fcd05"
    },
    {
      "cell_type": "code",
      "source": [
        "from google.colab import drive  # to mount Google Drive to Colab notebook\n",
        "drive.mount('/content/gdrive')\n",
        "path = \"./gdrive/My Drive/NLP\""
      ],
      "metadata": {
        "colab": {
          "base_uri": "https://localhost:8080/"
        },
        "id": "3N55UjzOZoOC",
        "outputId": "6d60e661-bdbe-48df-d7ad-14b4c191bb2b"
      },
      "id": "3N55UjzOZoOC",
      "execution_count": 3,
      "outputs": [
        {
          "output_type": "stream",
          "name": "stdout",
          "text": [
            "Drive already mounted at /content/gdrive; to attempt to forcibly remount, call drive.mount(\"/content/gdrive\", force_remount=True).\n"
          ]
        }
      ]
    },
    {
      "cell_type": "code",
      "source": [
        "df=pd.read_csv(path+'/processed_data.csv')"
      ],
      "metadata": {
        "id": "NFUad5n7Z7XM"
      },
      "id": "NFUad5n7Z7XM",
      "execution_count": 4,
      "outputs": []
    },
    {
      "cell_type": "code",
      "execution_count": 5,
      "source": [
        "df.head()"
      ],
      "outputs": [
        {
          "output_type": "execute_result",
          "data": {
            "text/html": [
              "<div>\n",
              "<style scoped>\n",
              "    .dataframe tbody tr th:only-of-type {\n",
              "        vertical-align: middle;\n",
              "    }\n",
              "\n",
              "    .dataframe tbody tr th {\n",
              "        vertical-align: top;\n",
              "    }\n",
              "\n",
              "    .dataframe thead th {\n",
              "        text-align: right;\n",
              "    }\n",
              "</style>\n",
              "<table border=\"1\" class=\"dataframe\">\n",
              "  <thead>\n",
              "    <tr style=\"text-align: right;\">\n",
              "      <th></th>\n",
              "      <th>Title</th>\n",
              "      <th>Content</th>\n",
              "      <th>Link</th>\n",
              "      <th>Category</th>\n",
              "    </tr>\n",
              "  </thead>\n",
              "  <tbody>\n",
              "    <tr>\n",
              "      <th>0</th>\n",
              "      <td>تيرتل تري لابز للتقنيات الحيويه تحصل علي تمويل...</td>\n",
              "      <td>جاءت جوله التمويل التمهيديه الاولي للشركه بقيا...</td>\n",
              "      <td>https://ryadiybusiness.com/%d8%aa%d9%8a%d8%b1%...</td>\n",
              "      <td>ريادة أعمال</td>\n",
              "    </tr>\n",
              "    <tr>\n",
              "      <th>1</th>\n",
              "      <td>تعد دراسه الجدوي لمشروعك الناشء 6 عوامل اساسيه</td>\n",
              "      <td>تعد دراسه الجدوي متطلبا اساسيا لنجاح اي مشروع ...</td>\n",
              "      <td>https://ryadiybusiness.com/%d9%83%d9%8a%d9%81-...</td>\n",
              "      <td>ريادة أعمال</td>\n",
              "    </tr>\n",
              "    <tr>\n",
              "      <th>2</th>\n",
              "      <td>منح جاءزه نوبل الطب لاكتشاف مجال التهاب الكبد ...</td>\n",
              "      <td>وقالت لجنه نوبل للمره الاولي التاريخ يمكن الان...</td>\n",
              "      <td>https://arabic.sputniknews.com/science/2020100...</td>\n",
              "      <td>علوم وتكنولوجيا</td>\n",
              "    </tr>\n",
              "    <tr>\n",
              "      <th>3</th>\n",
              "      <td>هيءه الغذاء والدواء الامريكيه لقاح مودرنا حقق ...</td>\n",
              "      <td>نشرت الوكاله وثاءق علي الانترنت اعدها موظفوها ...</td>\n",
              "      <td>https://arabic.sputniknews.com/world/202012151...</td>\n",
              "      <td>علوم وتكنولوجيا</td>\n",
              "    </tr>\n",
              "    <tr>\n",
              "      <th>4</th>\n",
              "      <td>حظر بروتين الجهاز المناعي يساعد علي محاربه عدو...</td>\n",
              "      <td>دراسه حديثه قام فريق العلماء جونز هوبكنز ميديس...</td>\n",
              "      <td>https://arabic.rt.com//technology/1161864-%D8%...</td>\n",
              "      <td>علوم وتكنولوجيا</td>\n",
              "    </tr>\n",
              "  </tbody>\n",
              "</table>\n",
              "</div>"
            ],
            "text/plain": [
              "                                               Title  ...         Category\n",
              "0  تيرتل تري لابز للتقنيات الحيويه تحصل علي تمويل...  ...      ريادة أعمال\n",
              "1     تعد دراسه الجدوي لمشروعك الناشء 6 عوامل اساسيه  ...      ريادة أعمال\n",
              "2  منح جاءزه نوبل الطب لاكتشاف مجال التهاب الكبد ...  ...  علوم وتكنولوجيا\n",
              "3  هيءه الغذاء والدواء الامريكيه لقاح مودرنا حقق ...  ...  علوم وتكنولوجيا\n",
              "4  حظر بروتين الجهاز المناعي يساعد علي محاربه عدو...  ...  علوم وتكنولوجيا\n",
              "\n",
              "[5 rows x 4 columns]"
            ]
          },
          "metadata": {},
          "execution_count": 5
        }
      ],
      "metadata": {
        "id": "579c2234",
        "colab": {
          "base_uri": "https://localhost:8080/",
          "height": 206
        },
        "outputId": "4542f5bc-9afc-469e-8a9e-ba93d307f475"
      },
      "id": "579c2234"
    },
    {
      "cell_type": "markdown",
      "source": [
        "# **Phase 2: Explore that data**"
      ],
      "metadata": {
        "id": "feN9tYmAXOw-"
      },
      "id": "feN9tYmAXOw-"
    },
    {
      "cell_type": "code",
      "execution_count": 6,
      "source": [
        "print(df.shape)"
      ],
      "outputs": [
        {
          "output_type": "stream",
          "name": "stdout",
          "text": [
            "(8399, 4)\n"
          ]
        }
      ],
      "metadata": {
        "id": "TWnYHEKEUwVw",
        "colab": {
          "base_uri": "https://localhost:8080/"
        },
        "outputId": "3230fd37-7083-4de3-d76d-a80469c4897b"
      },
      "id": "TWnYHEKEUwVw"
    },
    {
      "cell_type": "code",
      "execution_count": 7,
      "source": [
        "#summary of a DataFrame\n",
        "df.info()"
      ],
      "outputs": [
        {
          "output_type": "stream",
          "name": "stdout",
          "text": [
            "<class 'pandas.core.frame.DataFrame'>\n",
            "RangeIndex: 8399 entries, 0 to 8398\n",
            "Data columns (total 4 columns):\n",
            " #   Column    Non-Null Count  Dtype \n",
            "---  ------    --------------  ----- \n",
            " 0   Title     8399 non-null   object\n",
            " 1   Content   8386 non-null   object\n",
            " 2   Link      8399 non-null   object\n",
            " 3   Category  8399 non-null   object\n",
            "dtypes: object(4)\n",
            "memory usage: 262.6+ KB\n"
          ]
        }
      ],
      "metadata": {
        "id": "l7AKBGuQXdhE",
        "colab": {
          "base_uri": "https://localhost:8080/"
        },
        "outputId": "e566cd16-3a63-4174-d9c2-633e0421bd31"
      },
      "id": "l7AKBGuQXdhE"
    },
    {
      "cell_type": "code",
      "execution_count": 8,
      "source": [
        "# Retrieve list of columns\n",
        "df.columns"
      ],
      "outputs": [
        {
          "output_type": "execute_result",
          "data": {
            "text/plain": [
              "Index(['Title', 'Content', 'Link', 'Category'], dtype='object')"
            ]
          },
          "metadata": {},
          "execution_count": 8
        }
      ],
      "metadata": {
        "id": "oUTNNtQgXxPX",
        "colab": {
          "base_uri": "https://localhost:8080/"
        },
        "outputId": "2f58099e-d6f6-49c4-c33a-337314c57bc8"
      },
      "id": "oUTNNtQgXxPX"
    },
    {
      "cell_type": "code",
      "execution_count": 9,
      "source": [
        "# Any missing values?\n",
        "df.isnull().values.any()"
      ],
      "outputs": [
        {
          "output_type": "execute_result",
          "data": {
            "text/plain": [
              "True"
            ]
          },
          "metadata": {},
          "execution_count": 9
        }
      ],
      "metadata": {
        "id": "HD5NB9SEXy5a",
        "colab": {
          "base_uri": "https://localhost:8080/"
        },
        "outputId": "2d13883f-8936-45f9-99a4-64d0ce0f5798"
      },
      "id": "HD5NB9SEXy5a"
    },
    {
      "cell_type": "code",
      "execution_count": 10,
      "source": [
        "# Total missing values for each feature\n",
        "df.isnull().sum()"
      ],
      "outputs": [
        {
          "output_type": "execute_result",
          "data": {
            "text/plain": [
              "Title        0\n",
              "Content     13\n",
              "Link         0\n",
              "Category     0\n",
              "dtype: int64"
            ]
          },
          "metadata": {},
          "execution_count": 10
        }
      ],
      "metadata": {
        "id": "aQJoJAQWX5z7",
        "colab": {
          "base_uri": "https://localhost:8080/"
        },
        "outputId": "788a30ea-08d5-498a-d570-cfc1211c79bd"
      },
      "id": "aQJoJAQWX5z7"
    },
    {
      "cell_type": "code",
      "execution_count": 11,
      "source": [
        "# Replace missing values because it doesn't exist\n",
        "df=df.dropna()"
      ],
      "outputs": [],
      "metadata": {
        "id": "GW5chJNSX-6i"
      },
      "id": "GW5chJNSX-6i"
    },
    {
      "cell_type": "code",
      "execution_count": 12,
      "source": [
        "df.isnull().values.any()"
      ],
      "outputs": [
        {
          "output_type": "execute_result",
          "data": {
            "text/plain": [
              "False"
            ]
          },
          "metadata": {},
          "execution_count": 12
        }
      ],
      "metadata": {
        "id": "dQev0igwYDV_",
        "colab": {
          "base_uri": "https://localhost:8080/"
        },
        "outputId": "ba8aebb4-c5cd-4ebf-9c2f-d9a9fca7f90e"
      },
      "id": "dQev0igwYDV_"
    },
    {
      "cell_type": "markdown",
      "source": [
        "\n",
        "# **Phase 3: Clean the data**"
      ],
      "metadata": {
        "id": "_7wsuax4X18R"
      },
      "id": "_7wsuax4X18R"
    },
    {
      "cell_type": "markdown",
      "source": [
        "**Step 2: Remove Arabic stop words and repeated letters**"
      ],
      "metadata": {
        "id": "imJxhf4tWxbc"
      },
      "id": "imJxhf4tWxbc"
    },
    {
      "cell_type": "code",
      "execution_count": 13,
      "source": [
        "stop_words = list(set(stopwords.words('arabic')))\n",
        "#remove stop_words\n",
        "stop_words +=[\"،\",\"\",\"ورحمه\",\"وبركاته\",\"عليكم\",\"السلام\",\"آض\",\"آمينَ\",\"آه\",\"آهاً\",\"آي\",\"أ\",\"أب\",\"أجل\",\"أجمع\",\"أخ\",\"أخذ\",\"أصبح\",\"أضحى\",\"أقبل\",\"أقل\",\"أكثر\",\"ألا\",\"أم\",\"أما\",\"أمامك\",\"أمامكَ\",\"أمسى\",\"أمّا\",\"أن\",\"أنا\",\"أنت\",\"أنتم\",\"أنتما\",\"أنتن\",\"أنتِ\",\"أنشأ\",\"أنّى\",\"أو\",\"أوشك\",\"أولئك\",\"أولئكم\",\"أولاء\",\"أولالك\",\"أوّهْ\",\"أي\",\"أيا\",\"أين\",\"أينما\",\"أيّ\",\"أَنَّ\",\"أََيُّ\",\"أُفٍّ\",\"إذ\",\"إذا\",\"إذاً\",\"إذما\",\"إذن\",\"إلى\",\"إليكم\",\"إليكما\",\"إليكنّ\",\"إليكَ\",\"إلَيْكَ\",\"إلّا\",\"إمّا\",\"إن\",\"إنّما\",\"إي\",\"إياك\",\"إياكم\",\"إياكما\",\"إياكن\",\"إيانا\",\"إياه\",\"إياها\",\"إياهم\",\"إياهما\",\"إياهن\",\"إياي\",\"إيهٍ\",\"إِنَّ\",\"ا\",\"ابتدأ\",\"اثر\",\"اجل\",\"احد\",\"اخرى\",\"اخلولق\",\"اذا\",\"اربعة\",\"ارتدّ\",\"استحال\",\"اطار\",\"اعادة\",\"اعلنت\",\"اف\",\"اكثر\",\"اكد\",\"الألاء\",\"الألى\",\"الا\",\"الاخيرة\",\"الان\",\"الاول\",\"الاولى\",\"التى\",\"التي\",\"الثاني\",\"الثانية\",\"الذاتي\",\"الذى\",\"الذي\",\"الذين\",\"السابق\",\"الف\",\"اللائي\",\"اللاتي\",\"اللتان\",\"اللتيا\",\"اللتين\",\"اللذان\",\"اللذين\",\"اللواتي\",\"الماضي\",\"المقبل\",\"الوقت\",\"الى\",\"اليوم\",\"اما\",\"امام\",\"امس\",\"ان\",\"انبرى\",\"انقلب\",\"انه\",\"انها\",\"او\",\"اول\",\"اي\",\"ايار\",\"ايام\",\"ايضا\",\"ب\",\"بات\",\"باسم\",\"بان\",\"بخٍ\",\"برس\",\"بسبب\",\"بسّ\",\"بشكل\",\"بضع\",\"بطآن\",\"بعد\",\"بعض\",\"بك\",\"بكم\",\"بكما\",\"بكن\",\"بل\",\"بلى\",\"بما\",\"بماذا\",\"بمن\",\"بن\",\"بنا\",\"به\",\"بها\",\"بي\",\"بيد\",\"بين\",\"بَسْ\",\"بَلْهَ\",\"بِئْسَ\",\"تانِ\",\"تانِك\",\"تبدّل\",\"تجاه\",\"تحوّل\",\"تلقاء\",\"تلك\",\"تلكم\",\"تلكما\",\"تم\",\"تينك\",\"تَيْنِ\",\"تِه\",\"تِي\",\"ثلاثة\",\"ثم\",\"ثمّ\",\"ثمّة\",\"ثُمَّ\",\"جعل\",\"جلل\",\"جميع\",\"جير\",\"حار\",\"حاشا\",\"حاليا\",\"حاي\",\"حتى\",\"حرى\",\"حسب\",\"حم\",\"حوالى\",\"حول\",\"حيث\",\"حيثما\",\"حين\",\"حيَّ\",\"حَبَّذَا\",\"حَتَّى\",\"حَذارِ\",\"خلا\",\"خلال\",\"دون\",\"دونك\",\"ذا\",\"ذات\",\"ذاك\",\"ذانك\",\"ذانِ\",\"ذلك\",\"ذلكم\",\"ذلكما\",\"ذلكن\",\"ذو\",\"ذوا\",\"ذواتا\",\"ذواتي\",\"ذيت\",\"ذينك\",\"ذَيْنِ\",\"ذِه\",\"ذِي\",\"راح\",\"رجع\",\"رويدك\",\"ريث\",\"رُبَّ\",\"زيارة\",\"سبحان\",\"سرعان\",\"سنة\",\"سنوات\",\"سوف\",\"سوى\",\"سَاءَ\",\"سَاءَمَا\",\"شبه\",\"شخصا\",\"شرع\",\"شَتَّانَ\",\"صار\",\"صباح\",\"صفر\",\"صهٍ\",\"صهْ\",\"ضمن\",\"طاق\",\"طالما\",\"طفق\",\"طَق\",\"ظلّ\",\"عاد\",\"عام\",\"عاما\",\"عامة\",\"عدا\",\"عدة\",\"عدد\",\"عدم\",\"عسى\",\"عشر\",\"عشرة\",\"علق\",\"على\",\"عليك\",\"عليه\",\"عليها\",\"علًّ\",\"عن\",\"عند\",\"عندما\",\"عوض\",\"عين\",\"عَدَسْ\",\"عَمَّا\",\"غدا\",\"غير\",\"ـ\",\"ف\",\"فان\",\"فلان\",\"فو\",\"فى\",\"في\",\"فيم\",\"فيما\",\"فيه\",\"فيها\",\"قال\",\"قام\",\"قبل\",\"قد\",\"قطّ\",\"قلما\",\"قوة\",\"كأنّما\",\"كأين\",\"كأيّ\",\"كأيّن\",\"كاد\",\"كان\",\"كانت\",\"كذا\",\"كذلك\",\"كرب\",\"كل\",\"كلا\",\"كلاهما\",\"كلتا\",\"كلم\",\"كليكما\",\"كليهما\",\"كلّما\",\"كلَّا\",\"كم\",\"كما\",\"كي\",\"كيت\",\"كيف\",\"كيفما\",\"كَأَنَّ\",\"كِخ\",\"لئن\",\"لا\",\"لات\",\"لاسيما\",\"لدن\",\"لدى\",\"لعمر\",\"لقاء\",\"لك\",\"لكم\",\"لكما\",\"لكن\",\"لكنَّما\",\"لكي\",\"لكيلا\",\"للامم\",\"لم\",\"لما\",\"لمّا\",\"لن\",\"لنا\",\"له\",\"لها\",\"لو\",\"لوكالة\",\"لولا\",\"لوما\",\"لي\",\"لَسْتَ\",\"لَسْتُ\",\"لَسْتُم\",\"لَسْتُمَا\",\"لَسْتُنَّ\",\"لَسْتِ\",\"لَسْنَ\",\"لَعَلَّ\",\"لَكِنَّ\",\"لَيْتَ\",\"لَيْسَ\",\"لَيْسَا\",\"لَيْسَتَا\",\"لَيْسَتْ\",\"لَيْسُوا\",\"لَِسْنَا\",\"ما\",\"ماانفك\",\"مابرح\",\"مادام\",\"ماذا\",\"مازال\",\"مافتئ\",\"مايو\",\"متى\",\"مثل\",\"مذ\",\"مساء\",\"معاذ\",\"مقابل\",\"مكانكم\",\"مكانكما\",\"مكانكنّ\",\"مكانَك\",\"مليار\",\"مليون\",\"مما\",\"ممن\",\"من\",\"منذ\",\"منها\",\"مه\",\"مهما\",\"مَنْ\",\"مِن\",\"نحن\",\"نحو\",\"نعم\",\"نفس\",\"نفسه\",\"نهاية\",\"نَخْ\",\"نِعِمّا\",\"نِعْمَ\",\"ها\",\"هاؤم\",\"هاكَ\",\"هاهنا\",\"هبّ\",\"هذا\",\"هذه\",\"هكذا\",\"هل\",\"هلمَّ\",\"هلّا\",\"هم\",\"هما\",\"هن\",\"هنا\",\"هناك\",\"هنالك\",\"هو\",\"هي\",\"هيا\",\"هيت\",\"هيّا\",\"هَؤلاء\",\"هَاتانِ\",\"هَاتَيْنِ\",\"هَاتِه\",\"هَاتِي\",\"هَجْ\",\"هَذا\",\"هَذانِ\",\"هَذَيْنِ\",\"هَذِه\",\"هَذِي\",\"هَيْهَاتَ\",\"و\",\"و6\",\"وا\",\"واحد\",\"واضاف\",\"واضافت\",\"واكد\",\"وان\",\"واهاً\",\"واوضح\",\"وراءَك\",\"وفي\",\"وقال\"\n",
        "              ,\"وقالت\",\"وقد\",\"وقف\",\"وكان\",\"وكانت\",\"ولا\",\"ولم\",\"ومن\",\"مَن\",\"وهو\",\"وهي\",\"ويكأنّ\",\"وَيْ\",\"وُشْكَانََ\",\"يكون\",\"يمكن\",\"يوم\",\"ّأيّان\",\"علي\",\"الي\"]\n",
        "def remove_stop_words(text):\n",
        "    zen = TextBlob(text)\n",
        "    words = zen.words\n",
        "    return \" \".join([w for w in words if not w in stop_words and len(w) > 2])"
      ],
      "outputs": [],
      "metadata": {
        "id": "b8RhR3tHYSEQ"
      },
      "id": "b8RhR3tHYSEQ"
    },
    {
      "cell_type": "code",
      "execution_count": 14,
      "source": [
        "# remove repeated letters\n",
        "def remove_repeating_char(text):\n",
        "    return re.sub(r'(.)\\1+', r'\\1\\1', text)"
      ],
      "outputs": [],
      "metadata": {
        "id": "3XJfYXDkafJN"
      },
      "id": "3XJfYXDkafJN"
    },
    {
      "cell_type": "markdown",
      "source": [
        "**Step 3: Remove duplicates **"
      ],
      "metadata": {
        "id": "-Qher_y0Xe8z"
      },
      "id": "-Qher_y0Xe8z"
    },
    {
      "cell_type": "code",
      "execution_count": 15,
      "source": [
        "df.drop_duplicates(subset = \"Content\", keep = False, inplace = True)"
      ],
      "outputs": [],
      "metadata": {
        "id": "bndIF6wHYe9y"
      },
      "id": "bndIF6wHYe9y"
    },
    {
      "cell_type": "code",
      "execution_count": 16,
      "source": [
        "# apply the method in all the text and creat another cloumn with the processed text\n",
        "df[\"clean text\"] = df['Content'].apply(lambda x: remove_stop_words(remove_repeating_char(x)))"
      ],
      "outputs": [],
      "metadata": {
        "id": "POphKibVcxwF"
      },
      "id": "POphKibVcxwF"
    },
    {
      "cell_type": "code",
      "execution_count": 17,
      "source": [
        "df.head(5)"
      ],
      "outputs": [
        {
          "output_type": "execute_result",
          "data": {
            "text/html": [
              "<div>\n",
              "<style scoped>\n",
              "    .dataframe tbody tr th:only-of-type {\n",
              "        vertical-align: middle;\n",
              "    }\n",
              "\n",
              "    .dataframe tbody tr th {\n",
              "        vertical-align: top;\n",
              "    }\n",
              "\n",
              "    .dataframe thead th {\n",
              "        text-align: right;\n",
              "    }\n",
              "</style>\n",
              "<table border=\"1\" class=\"dataframe\">\n",
              "  <thead>\n",
              "    <tr style=\"text-align: right;\">\n",
              "      <th></th>\n",
              "      <th>Title</th>\n",
              "      <th>Content</th>\n",
              "      <th>Link</th>\n",
              "      <th>Category</th>\n",
              "      <th>clean text</th>\n",
              "    </tr>\n",
              "  </thead>\n",
              "  <tbody>\n",
              "    <tr>\n",
              "      <th>1</th>\n",
              "      <td>تعد دراسه الجدوي لمشروعك الناشء 6 عوامل اساسيه</td>\n",
              "      <td>تعد دراسه الجدوي متطلبا اساسيا لنجاح اي مشروع ...</td>\n",
              "      <td>https://ryadiybusiness.com/%d9%83%d9%8a%d9%81-...</td>\n",
              "      <td>ريادة أعمال</td>\n",
              "      <td>تعد دراسه الجدوي متطلبا اساسيا لنجاح مشروع ناش...</td>\n",
              "    </tr>\n",
              "    <tr>\n",
              "      <th>2</th>\n",
              "      <td>منح جاءزه نوبل الطب لاكتشاف مجال التهاب الكبد ...</td>\n",
              "      <td>وقالت لجنه نوبل للمره الاولي التاريخ يمكن الان...</td>\n",
              "      <td>https://arabic.sputniknews.com/science/2020100...</td>\n",
              "      <td>علوم وتكنولوجيا</td>\n",
              "      <td>لجنه نوبل للمره الاولي التاريخ الشفاء فيروس ال...</td>\n",
              "    </tr>\n",
              "    <tr>\n",
              "      <th>3</th>\n",
              "      <td>هيءه الغذاء والدواء الامريكيه لقاح مودرنا حقق ...</td>\n",
              "      <td>نشرت الوكاله وثاءق علي الانترنت اعدها موظفوها ...</td>\n",
              "      <td>https://arabic.sputniknews.com/world/202012151...</td>\n",
              "      <td>علوم وتكنولوجيا</td>\n",
              "      <td>نشرت الوكاله وثاءق الانترنت اعدها موظفوها بالت...</td>\n",
              "    </tr>\n",
              "    <tr>\n",
              "      <th>4</th>\n",
              "      <td>حظر بروتين الجهاز المناعي يساعد علي محاربه عدو...</td>\n",
              "      <td>دراسه حديثه قام فريق العلماء جونز هوبكنز ميديس...</td>\n",
              "      <td>https://arabic.rt.com//technology/1161864-%D8%...</td>\n",
              "      <td>علوم وتكنولوجيا</td>\n",
              "      <td>دراسه حديثه فريق العلماء جونز هوبكنز ميديسن حد...</td>\n",
              "    </tr>\n",
              "    <tr>\n",
              "      <th>5</th>\n",
              "      <td>فيروس كورونا وسط تقارير اساءات موجهه الي الاسي...</td>\n",
              "      <td>جاء خلال حديثها امام مجلس حقوق الانسان جنيف ال...</td>\n",
              "      <td>https://news.un.org/ar/story/2020/02/1050061</td>\n",
              "      <td>أخرى</td>\n",
              "      <td>جاء حديثها مجلس حقوق الانسان جنيف الخميس وفقا ...</td>\n",
              "    </tr>\n",
              "  </tbody>\n",
              "</table>\n",
              "</div>"
            ],
            "text/plain": [
              "                                               Title  ...                                         clean text\n",
              "1     تعد دراسه الجدوي لمشروعك الناشء 6 عوامل اساسيه  ...  تعد دراسه الجدوي متطلبا اساسيا لنجاح مشروع ناش...\n",
              "2  منح جاءزه نوبل الطب لاكتشاف مجال التهاب الكبد ...  ...  لجنه نوبل للمره الاولي التاريخ الشفاء فيروس ال...\n",
              "3  هيءه الغذاء والدواء الامريكيه لقاح مودرنا حقق ...  ...  نشرت الوكاله وثاءق الانترنت اعدها موظفوها بالت...\n",
              "4  حظر بروتين الجهاز المناعي يساعد علي محاربه عدو...  ...  دراسه حديثه فريق العلماء جونز هوبكنز ميديسن حد...\n",
              "5  فيروس كورونا وسط تقارير اساءات موجهه الي الاسي...  ...  جاء حديثها مجلس حقوق الانسان جنيف الخميس وفقا ...\n",
              "\n",
              "[5 rows x 5 columns]"
            ]
          },
          "metadata": {},
          "execution_count": 17
        }
      ],
      "metadata": {
        "id": "YN8yud5sc2C3",
        "colab": {
          "base_uri": "https://localhost:8080/",
          "height": 293
        },
        "outputId": "8853ca1d-78a7-4a74-9cef-9a6b30ccf1c4"
      },
      "id": "YN8yud5sc2C3"
    },
    {
      "cell_type": "code",
      "source": [
        "df = df[df['clean text'].notna()]"
      ],
      "metadata": {
        "id": "MkByVqIrJwYt"
      },
      "id": "MkByVqIrJwYt",
      "execution_count": 18,
      "outputs": []
    },
    {
      "cell_type": "code",
      "source": [
        "def predict_list(sent_lst):\n",
        "    url = \"http://mazajak.inf.ed.ac.uk:8000/api/predict_list\"\n",
        "    to_sent = {'data': sent_lst}\n",
        "    data = json.dumps(to_sent)\n",
        "    headers = {'content-type': 'application/json'}\n",
        "    # sending get request and saving the response as response object\n",
        "    response = requests.post(url=url, data=data, headers=headers)\n",
        "\n",
        "    prediction = json.loads(response.content)['data']\n",
        "\n",
        "    return prediction"
      ],
      "metadata": {
        "id": "Y0wej-J6J6DV"
      },
      "id": "Y0wej-J6J6DV",
      "execution_count": 19,
      "outputs": []
    },
    {
      "cell_type": "code",
      "source": [
        "df[\"opinion\"] =predict_list(list(df['clean text']))"
      ],
      "metadata": {
        "id": "6kxKT0HFJ-Fe"
      },
      "id": "6kxKT0HFJ-Fe",
      "execution_count": 20,
      "outputs": []
    },
    {
      "cell_type": "code",
      "source": [
        "df.head()"
      ],
      "metadata": {
        "id": "aS4O8v1lJ_Pu",
        "colab": {
          "base_uri": "https://localhost:8080/",
          "height": 293
        },
        "outputId": "a45104ac-57cf-44d7-a096-1a4ccd17f30c"
      },
      "id": "aS4O8v1lJ_Pu",
      "execution_count": 21,
      "outputs": [
        {
          "output_type": "execute_result",
          "data": {
            "text/html": [
              "<div>\n",
              "<style scoped>\n",
              "    .dataframe tbody tr th:only-of-type {\n",
              "        vertical-align: middle;\n",
              "    }\n",
              "\n",
              "    .dataframe tbody tr th {\n",
              "        vertical-align: top;\n",
              "    }\n",
              "\n",
              "    .dataframe thead th {\n",
              "        text-align: right;\n",
              "    }\n",
              "</style>\n",
              "<table border=\"1\" class=\"dataframe\">\n",
              "  <thead>\n",
              "    <tr style=\"text-align: right;\">\n",
              "      <th></th>\n",
              "      <th>Title</th>\n",
              "      <th>Content</th>\n",
              "      <th>Link</th>\n",
              "      <th>Category</th>\n",
              "      <th>clean text</th>\n",
              "      <th>opinion</th>\n",
              "    </tr>\n",
              "  </thead>\n",
              "  <tbody>\n",
              "    <tr>\n",
              "      <th>1</th>\n",
              "      <td>تعد دراسه الجدوي لمشروعك الناشء 6 عوامل اساسيه</td>\n",
              "      <td>تعد دراسه الجدوي متطلبا اساسيا لنجاح اي مشروع ...</td>\n",
              "      <td>https://ryadiybusiness.com/%d9%83%d9%8a%d9%81-...</td>\n",
              "      <td>ريادة أعمال</td>\n",
              "      <td>تعد دراسه الجدوي متطلبا اساسيا لنجاح مشروع ناش...</td>\n",
              "      <td>positive</td>\n",
              "    </tr>\n",
              "    <tr>\n",
              "      <th>2</th>\n",
              "      <td>منح جاءزه نوبل الطب لاكتشاف مجال التهاب الكبد ...</td>\n",
              "      <td>وقالت لجنه نوبل للمره الاولي التاريخ يمكن الان...</td>\n",
              "      <td>https://arabic.sputniknews.com/science/2020100...</td>\n",
              "      <td>علوم وتكنولوجيا</td>\n",
              "      <td>لجنه نوبل للمره الاولي التاريخ الشفاء فيروس ال...</td>\n",
              "      <td>negative</td>\n",
              "    </tr>\n",
              "    <tr>\n",
              "      <th>3</th>\n",
              "      <td>هيءه الغذاء والدواء الامريكيه لقاح مودرنا حقق ...</td>\n",
              "      <td>نشرت الوكاله وثاءق علي الانترنت اعدها موظفوها ...</td>\n",
              "      <td>https://arabic.sputniknews.com/world/202012151...</td>\n",
              "      <td>علوم وتكنولوجيا</td>\n",
              "      <td>نشرت الوكاله وثاءق الانترنت اعدها موظفوها بالت...</td>\n",
              "      <td>neutral</td>\n",
              "    </tr>\n",
              "    <tr>\n",
              "      <th>4</th>\n",
              "      <td>حظر بروتين الجهاز المناعي يساعد علي محاربه عدو...</td>\n",
              "      <td>دراسه حديثه قام فريق العلماء جونز هوبكنز ميديس...</td>\n",
              "      <td>https://arabic.rt.com//technology/1161864-%D8%...</td>\n",
              "      <td>علوم وتكنولوجيا</td>\n",
              "      <td>دراسه حديثه فريق العلماء جونز هوبكنز ميديسن حد...</td>\n",
              "      <td>neutral</td>\n",
              "    </tr>\n",
              "    <tr>\n",
              "      <th>5</th>\n",
              "      <td>فيروس كورونا وسط تقارير اساءات موجهه الي الاسي...</td>\n",
              "      <td>جاء خلال حديثها امام مجلس حقوق الانسان جنيف ال...</td>\n",
              "      <td>https://news.un.org/ar/story/2020/02/1050061</td>\n",
              "      <td>أخرى</td>\n",
              "      <td>جاء حديثها مجلس حقوق الانسان جنيف الخميس وفقا ...</td>\n",
              "      <td>neutral</td>\n",
              "    </tr>\n",
              "  </tbody>\n",
              "</table>\n",
              "</div>"
            ],
            "text/plain": [
              "                                               Title  ...   opinion\n",
              "1     تعد دراسه الجدوي لمشروعك الناشء 6 عوامل اساسيه  ...  positive\n",
              "2  منح جاءزه نوبل الطب لاكتشاف مجال التهاب الكبد ...  ...  negative\n",
              "3  هيءه الغذاء والدواء الامريكيه لقاح مودرنا حقق ...  ...   neutral\n",
              "4  حظر بروتين الجهاز المناعي يساعد علي محاربه عدو...  ...   neutral\n",
              "5  فيروس كورونا وسط تقارير اساءات موجهه الي الاسي...  ...   neutral\n",
              "\n",
              "[5 rows x 6 columns]"
            ]
          },
          "metadata": {},
          "execution_count": 21
        }
      ]
    },
    {
      "cell_type": "code",
      "source": [
        "df[\"opinion\"].value_counts().plot.bar()"
      ],
      "metadata": {
        "id": "eiQFsrsaKIQL",
        "colab": {
          "base_uri": "https://localhost:8080/",
          "height": 316
        },
        "outputId": "55267397-12dc-41fa-9b3f-ba10e3725877"
      },
      "id": "eiQFsrsaKIQL",
      "execution_count": 22,
      "outputs": [
        {
          "output_type": "execute_result",
          "data": {
            "text/plain": [
              "<matplotlib.axes._subplots.AxesSubplot at 0x7fce2cf5fa10>"
            ]
          },
          "metadata": {},
          "execution_count": 22
        },
        {
          "output_type": "display_data",
          "data": {
            "image/png": "[encoded data removed]",
            "text/plain": [
              "<Figure size 432x288 with 1 Axes>"
            ]
          },
          "metadata": {
            "needs_background": "light"
          }
        }
      ]
    },
    {
      "cell_type": "code",
      "source": [
        "df.to_csv(path+\"Arabic_News_SentemintAnalysis.csv\",index=False,encoding='utf-8-sig')"
      ],
      "metadata": {
        "id": "YH7wMEvbKKrI"
      },
      "id": "YH7wMEvbKKrI",
      "execution_count": 23,
      "outputs": []
    },
    {
      "cell_type": "markdown",
      "metadata": {
        "id": "AOmpItsLvJkr"
      },
      "source": [
        "# <font color='blue'>Plotting The News Count Using Bar Plot and Pie Chart</font>"
      ],
      "id": "AOmpItsLvJkr"
    },
    {
      "cell_type": "markdown",
      "metadata": {
        "id": "_-LMbjDBvJkr"
      },
      "source": [
        "# <font color='blue'>***1- Bar Plot***</font>"
      ],
      "id": "_-LMbjDBvJkr"
    },
    {
      "cell_type": "code",
      "metadata": {
        "id": "dKd8eqpuvJkr",
        "colab": {
          "base_uri": "https://localhost:8080/",
          "height": 282
        },
        "outputId": "0ef13e7a-ba6c-4c02-81ed-2f92e09dff9c"
      },
      "source": [
        "news=df.opinion.value_counts()\n",
        "news.plot.barh()"
      ],
      "execution_count": 24,
      "outputs": [
        {
          "output_type": "execute_result",
          "data": {
            "text/plain": [
              "<matplotlib.axes._subplots.AxesSubplot at 0x7fce2cebe9d0>"
            ]
          },
          "metadata": {},
          "execution_count": 24
        },
        {
          "output_type": "display_data",
          "data": {
            "image/png": "[encoded data removed]",
            "text/plain": [
              "<Figure size 432x288 with 1 Axes>"
            ]
          },
          "metadata": {
            "needs_background": "light"
          }
        }
      ],
      "id": "dKd8eqpuvJkr"
    },
    {
      "cell_type": "markdown",
      "metadata": {
        "id": "lPZg1iCYvJkr"
      },
      "source": [
        "# <font color='blue'>***2- Pie Chart***</font>"
      ],
      "id": "lPZg1iCYvJkr"
    },
    {
      "cell_type": "code",
      "metadata": {
        "id": "EQQfwIbUvJks",
        "colab": {
          "base_uri": "https://localhost:8080/",
          "height": 265
        },
        "outputId": "16f93f35-5e96-4efc-a04f-5ff9ac8f6f48"
      },
      "source": [
        "news.plot(kind=\"pie\", colors = ['blue', 'green','red'],autopct='%.2f')"
      ],
      "execution_count": 25,
      "outputs": [
        {
          "output_type": "execute_result",
          "data": {
            "text/plain": [
              "<matplotlib.axes._subplots.AxesSubplot at 0x7fce2c9eb650>"
            ]
          },
          "metadata": {},
          "execution_count": 25
        },
        {
          "output_type": "display_data",
          "data": {
            "image/png": "[encoded data removed]",
            "text/plain": [
              "<Figure size 432x288 with 1 Axes>"
            ]
          },
          "metadata": {}
        }
      ],
      "id": "EQQfwIbUvJks"
    },
    {
      "cell_type": "markdown",
      "metadata": {
        "id": "RJcUUft1vJks"
      },
      "source": [
        "# Those Plots Show Us That Most Of News are neutral"
      ],
      "id": "RJcUUft1vJks"
    },
    {
      "cell_type": "markdown",
      "metadata": {
        "id": "tXnaSRI0vJkt"
      },
      "source": [
        "<h2><font color='blue'>In This Section We are Going To Check Common Words For Each Class</font></h2>"
      ],
      "id": "tXnaSRI0vJkt"
    },
    {
      "cell_type": "markdown",
      "metadata": {
        "id": "Lt5li-QTvJkv"
      },
      "source": [
        "### <font color='blue'>Save all Words as list of lists</font>"
      ],
      "id": "Lt5li-QTvJkv"
    },
    {
      "cell_type": "code",
      "metadata": {
        "id": "asl5YEoSvJkv",
        "colab": {
          "base_uri": "https://localhost:8080/"
        },
        "outputId": "539038df-8c56-4ac8-88da-3aabcb2511dd"
      },
      "source": [
        "all_words=[word for word in tqdm(df['clean text'])if not word in stop_words and len(word)>2]"
      ],
      "execution_count": 26,
      "outputs": [
        {
          "output_type": "stream",
          "name": "stderr",
          "text": [
            "100%|██████████| 7537/7537 [00:00<00:00, 49813.62it/s]\n"
          ]
        }
      ],
      "id": "asl5YEoSvJkv"
    },
    {
      "cell_type": "markdown",
      "metadata": {
        "id": "NW6AQsWEvJkw"
      },
      "source": [
        "### <font color='blue'>Convert All_Words List to a Flatten List</font>"
      ],
      "id": "NW6AQsWEvJkw"
    },
    {
      "cell_type": "code",
      "source": [
        "words=list(np.concatenate([w.split(' ') for w in all_words]).flat)"
      ],
      "metadata": {
        "id": "_lZCLaOioB2p"
      },
      "id": "_lZCLaOioB2p",
      "execution_count": 27,
      "outputs": []
    },
    {
      "cell_type": "code",
      "source": [
        "len(words)"
      ],
      "metadata": {
        "colab": {
          "base_uri": "https://localhost:8080/"
        },
        "id": "OUy1OPbDnenX",
        "outputId": "a55d320a-84ef-43fe-da2b-90bd56321bf0"
      },
      "id": "OUy1OPbDnenX",
      "execution_count": 28,
      "outputs": [
        {
          "output_type": "execute_result",
          "data": {
            "text/plain": [
              "1936881"
            ]
          },
          "metadata": {},
          "execution_count": 28
        }
      ]
    },
    {
      "cell_type": "code",
      "source": [
        "words[:10]"
      ],
      "metadata": {
        "colab": {
          "base_uri": "https://localhost:8080/"
        },
        "id": "BOsHaXWXeYVN",
        "outputId": "b8ce4460-5342-4d36-9ec9-e304602091fa"
      },
      "id": "BOsHaXWXeYVN",
      "execution_count": 29,
      "outputs": [
        {
          "output_type": "execute_result",
          "data": {
            "text/plain": [
              "['تعد',\n",
              " 'دراسه',\n",
              " 'الجدوي',\n",
              " 'متطلبا',\n",
              " 'اساسيا',\n",
              " 'لنجاح',\n",
              " 'مشروع',\n",
              " 'ناشء',\n",
              " 'بغض',\n",
              " 'النظر']"
            ]
          },
          "metadata": {},
          "execution_count": 29
        }
      ]
    },
    {
      "cell_type": "markdown",
      "metadata": {
        "id": "S_g1K5yzvJk0"
      },
      "source": [
        "### <font color='blue'>Countering Each Word Appearance</font>"
      ],
      "id": "S_g1K5yzvJk0"
    },
    {
      "cell_type": "code",
      "metadata": {
        "id": "5CkfgnhGvJk1"
      },
      "source": [
        "word_counter=Counter(words)"
      ],
      "execution_count": 30,
      "outputs": [],
      "id": "5CkfgnhGvJk1"
    },
    {
      "cell_type": "markdown",
      "metadata": {
        "id": "81Og3f4MvJk1"
      },
      "source": [
        "### <font color='blue'>Showing The Top 10 Common Words</font>"
      ],
      "id": "81Og3f4MvJk1"
    },
    {
      "cell_type": "code",
      "metadata": {
        "id": "FPfYN17bvJk1",
        "colab": {
          "base_uri": "https://localhost:8080/"
        },
        "outputId": "f5f4ca2c-2f39-44de-e87f-05d2860a247f"
      },
      "source": [
        "word_counter.most_common(10)"
      ],
      "execution_count": 31,
      "outputs": [
        {
          "output_type": "execute_result",
          "data": {
            "text/plain": [
              "[('المتحده', 9624),\n",
              " ('العام', 7035),\n",
              " ('الامم', 6454),\n",
              " ('الاعمال', 5353),\n",
              " ('العالم', 4601),\n",
              " ('العمل', 3942),\n",
              " ('عبر', 3784),\n",
              " ('شركه', 3441),\n",
              " ('الامين', 3422),\n",
              " ('الصحه', 3359)]"
            ]
          },
          "metadata": {},
          "execution_count": 31
        }
      ],
      "id": "FPfYN17bvJk1"
    },
    {
      "cell_type": "markdown",
      "metadata": {
        "id": "Vw2PGGsKvJk1"
      },
      "source": [
        "### <font color='blue'>Showing The lowest 10 Common Words</font>"
      ],
      "id": "Vw2PGGsKvJk1"
    },
    {
      "cell_type": "code",
      "metadata": {
        "id": "k6T1n85-vJk2",
        "colab": {
          "base_uri": "https://localhost:8080/"
        },
        "outputId": "de275408-845f-4c15-93dd-a60790be4ffa"
      },
      "source": [
        "word_counter.most_common()[-10:]"
      ],
      "execution_count": 32,
      "outputs": [
        {
          "output_type": "execute_result",
          "data": {
            "text/plain": [
              "[('تتعاطي', 1),\n",
              " ('ارادتهموقد', 1),\n",
              " ('التشاورات', 1),\n",
              " ('زوجات', 1),\n",
              " ('فيتيو', 1),\n",
              " ('كارابا', 1),\n",
              " ('الموقعو', 1),\n",
              " ('المعارضهواوضح', 1),\n",
              " ('ماجلوار', 1),\n",
              " ('اغوا', 1)]"
            ]
          },
          "metadata": {},
          "execution_count": 32
        }
      ],
      "id": "k6T1n85-vJk2"
    },
    {
      "cell_type": "markdown",
      "metadata": {
        "id": "5am8BQmIvJk2"
      },
      "source": [
        "# <font color='blue'>Checking each Class</font>"
      ],
      "id": "5am8BQmIvJk2"
    },
    {
      "cell_type": "markdown",
      "metadata": {
        "id": "aL7-gaICvJk2"
      },
      "source": [
        "### <font color='blue'>1-Splitting The Positive opinions To Check it</font>"
      ],
      "id": "aL7-gaICvJk2"
    },
    {
      "cell_type": "code",
      "metadata": {
        "id": "i_sCIZOGvJk2"
      },
      "source": [
        "positive_df=df[df.opinion=='positive']"
      ],
      "execution_count": 33,
      "outputs": [],
      "id": "i_sCIZOGvJk2"
    },
    {
      "cell_type": "code",
      "source": [
        "all_positive_words=[word for word in tqdm(positive_df['clean text'])if not word in stop_words and len(word)>2]\n",
        "positive_words =list(np.concatenate([w.split(' ') for w in all_positive_words]).flat)\n",
        "positive_words[:10]"
      ],
      "metadata": {
        "colab": {
          "base_uri": "https://localhost:8080/"
        },
        "id": "d00k0n0Jetgs",
        "outputId": "3f90b283-fcb3-4359-9da0-ad945722a20f"
      },
      "id": "d00k0n0Jetgs",
      "execution_count": 34,
      "outputs": [
        {
          "output_type": "stream",
          "name": "stderr",
          "text": [
            "100%|██████████| 780/780 [00:00<00:00, 33813.84it/s]\n"
          ]
        },
        {
          "output_type": "execute_result",
          "data": {
            "text/plain": [
              "['تعد',\n",
              " 'دراسه',\n",
              " 'الجدوي',\n",
              " 'متطلبا',\n",
              " 'اساسيا',\n",
              " 'لنجاح',\n",
              " 'مشروع',\n",
              " 'ناشء',\n",
              " 'بغض',\n",
              " 'النظر']"
            ]
          },
          "metadata": {},
          "execution_count": 34
        }
      ]
    },
    {
      "cell_type": "code",
      "metadata": {
        "id": "GjKE7nNFvJk3"
      },
      "source": [
        "positive_word_counter=Counter(positive_words)"
      ],
      "execution_count": 35,
      "outputs": [],
      "id": "GjKE7nNFvJk3"
    },
    {
      "cell_type": "code",
      "metadata": {
        "id": "ygAhQHeovJk3",
        "colab": {
          "base_uri": "https://localhost:8080/"
        },
        "outputId": "cef3a0ed-0da9-4c4a-97af-9022dc35fab3"
      },
      "source": [
        "positive_word_counter.most_common(10)"
      ],
      "execution_count": 36,
      "outputs": [
        {
          "output_type": "execute_result",
          "data": {
            "text/plain": [
              "[('الاعمال', 1792),\n",
              " ('المتحده', 1171),\n",
              " ('العام', 1046),\n",
              " ('العالم', 853),\n",
              " ('الامم', 826),\n",
              " ('العمل', 817),\n",
              " ('الشركات', 731),\n",
              " ('الامين', 561),\n",
              " ('رياده', 553),\n",
              " ('شركه', 525)]"
            ]
          },
          "metadata": {},
          "execution_count": 36
        }
      ],
      "id": "ygAhQHeovJk3"
    },
    {
      "cell_type": "markdown",
      "metadata": {
        "id": "x_LC6ryCvJk3"
      },
      "source": [
        "### <font color='blue'>2-Splitting The Negative opinions To Check it</font>"
      ],
      "id": "x_LC6ryCvJk3"
    },
    {
      "cell_type": "code",
      "metadata": {
        "id": "5UOZGt3kvJk3"
      },
      "source": [
        "negative_df=df[df.opinion=='negative']"
      ],
      "execution_count": 37,
      "outputs": [],
      "id": "5UOZGt3kvJk3"
    },
    {
      "cell_type": "code",
      "metadata": {
        "id": "W8WYNH6TvJk3",
        "colab": {
          "base_uri": "https://localhost:8080/"
        },
        "outputId": "54364025-fb2a-4f62-ce6f-f96238619835"
      },
      "source": [
        "all_negative_words=[word for word in tqdm(negative_df['clean text'])if not word in stop_words and len(word)>2]\n",
        "negative_words =list(np.concatenate([w.split(' ') for w in all_negative_words]).flat)\n",
        "negative_words[:10]"
      ],
      "execution_count": 38,
      "outputs": [
        {
          "output_type": "stream",
          "name": "stderr",
          "text": [
            "100%|██████████| 1702/1702 [00:00<00:00, 31147.41it/s]\n"
          ]
        },
        {
          "output_type": "execute_result",
          "data": {
            "text/plain": [
              "['لجنه',\n",
              " 'نوبل',\n",
              " 'للمره',\n",
              " 'الاولي',\n",
              " 'التاريخ',\n",
              " 'الشفاء',\n",
              " 'فيروس',\n",
              " 'التهاب',\n",
              " 'الكبد',\n",
              " 'اظهرت']"
            ]
          },
          "metadata": {},
          "execution_count": 38
        }
      ],
      "id": "W8WYNH6TvJk3"
    },
    {
      "cell_type": "code",
      "metadata": {
        "id": "tV6aFMMKvJk4"
      },
      "source": [
        "negative_word_counter=Counter(negative_words)"
      ],
      "execution_count": 39,
      "outputs": [],
      "id": "tV6aFMMKvJk4"
    },
    {
      "cell_type": "code",
      "metadata": {
        "id": "kiXLy6uavJk4",
        "colab": {
          "base_uri": "https://localhost:8080/"
        },
        "outputId": "5274017c-e1a8-46d5-a268-78096b69890b"
      },
      "source": [
        "negative_word_counter.most_common(10)"
      ],
      "execution_count": 40,
      "outputs": [
        {
          "output_type": "execute_result",
          "data": {
            "text/plain": [
              "[('المتحده', 2537),\n",
              " ('الامم', 1755),\n",
              " ('الانسان', 1454),\n",
              " ('العام', 1283),\n",
              " ('حقوق', 1145),\n",
              " ('الصحه', 1042),\n",
              " ('العالم', 1010),\n",
              " ('الاطفال', 968),\n",
              " ('كوفيد19', 830),\n",
              " ('حتي', 809)]"
            ]
          },
          "metadata": {},
          "execution_count": 40
        }
      ],
      "id": "kiXLy6uavJk4"
    },
    {
      "cell_type": "markdown",
      "metadata": {
        "id": "ZJM8BKO8vJk4"
      },
      "source": [
        "### <font color='blue'>3-Splitting The Neutral opinions To Check it</font>"
      ],
      "id": "ZJM8BKO8vJk4"
    },
    {
      "cell_type": "code",
      "metadata": {
        "id": "Qa_T99O4vJk4"
      },
      "source": [
        "neutral_df=df[df.opinion=='neutral']"
      ],
      "execution_count": 41,
      "outputs": [],
      "id": "Qa_T99O4vJk4"
    },
    {
      "cell_type": "code",
      "metadata": {
        "id": "15MfbNKcvJk4",
        "colab": {
          "base_uri": "https://localhost:8080/"
        },
        "outputId": "a723d556-d62f-458e-e54f-f1957bddc338"
      },
      "source": [
        "all_neutral_words=[word for word in tqdm(neutral_df['clean text'])if not word in stop_words and len(word)>2]\n",
        "neutral_words =list(np.concatenate([w.split(' ') for w in all_neutral_words]).flat)\n",
        "neutral_words[:10]"
      ],
      "execution_count": 42,
      "outputs": [
        {
          "output_type": "stream",
          "name": "stderr",
          "text": [
            "100%|██████████| 5055/5055 [00:00<00:00, 45390.86it/s]\n"
          ]
        },
        {
          "output_type": "execute_result",
          "data": {
            "text/plain": [
              "['نشرت',\n",
              " 'الوكاله',\n",
              " 'وثاءق',\n",
              " 'الانترنت',\n",
              " 'اعدها',\n",
              " 'موظفوها',\n",
              " 'بالتعاون',\n",
              " 'الشركه',\n",
              " 'لتحليل',\n",
              " 'سلامه']"
            ]
          },
          "metadata": {},
          "execution_count": 42
        }
      ],
      "id": "15MfbNKcvJk4"
    },
    {
      "cell_type": "code",
      "metadata": {
        "id": "gz6p_pimvJk5"
      },
      "source": [
        "neutral_word_counter=Counter(neutral_words)"
      ],
      "execution_count": 43,
      "outputs": [],
      "id": "gz6p_pimvJk5"
    },
    {
      "cell_type": "code",
      "metadata": {
        "id": "y6TfT_vDvJk5",
        "colab": {
          "base_uri": "https://localhost:8080/"
        },
        "outputId": "72df3845-ced9-4bf5-96e6-d1ea07e330f1"
      },
      "source": [
        "neutral_word_counter.most_common(10)"
      ],
      "execution_count": 44,
      "outputs": [
        {
          "output_type": "execute_result",
          "data": {
            "text/plain": [
              "[('المتحده', 5916),\n",
              " ('العام', 4706),\n",
              " ('الامم', 3873),\n",
              " ('الاعمال', 3328),\n",
              " ('العالم', 2738),\n",
              " ('عبر', 2723),\n",
              " ('شركه', 2708),\n",
              " ('العمل', 2534),\n",
              " ('الامين', 2263),\n",
              " ('الشركات', 2160)]"
            ]
          },
          "metadata": {},
          "execution_count": 44
        }
      ],
      "id": "y6TfT_vDvJk5"
    },
    {
      "cell_type": "markdown",
      "metadata": {
        "id": "xu3slNxgvJk6"
      },
      "source": [
        "## <font color='blue'>Plotting The top 10 common Words in a Bar Chart</font>"
      ],
      "id": "xu3slNxgvJk6"
    },
    {
      "cell_type": "code",
      "metadata": {
        "id": "ncziiUB7vJk6"
      },
      "source": [
        "words_df=pd.DataFrame(word_counter.most_common(30),columns=['word','count'])"
      ],
      "execution_count": 45,
      "outputs": [],
      "id": "ncziiUB7vJk6"
    },
    {
      "cell_type": "code",
      "metadata": {
        "id": "rDWs9HQsvJk6",
        "colab": {
          "base_uri": "https://localhost:8080/",
          "height": 363
        },
        "outputId": "4d691061-19ee-4de4-da55-1898e2d53229"
      },
      "source": [
        "words_df.head(10)"
      ],
      "execution_count": 46,
      "outputs": [
        {
          "output_type": "execute_result",
          "data": {
            "text/html": [
              "<div>\n",
              "<style scoped>\n",
              "    .dataframe tbody tr th:only-of-type {\n",
              "        vertical-align: middle;\n",
              "    }\n",
              "\n",
              "    .dataframe tbody tr th {\n",
              "        vertical-align: top;\n",
              "    }\n",
              "\n",
              "    .dataframe thead th {\n",
              "        text-align: right;\n",
              "    }\n",
              "</style>\n",
              "<table border=\"1\" class=\"dataframe\">\n",
              "  <thead>\n",
              "    <tr style=\"text-align: right;\">\n",
              "      <th></th>\n",
              "      <th>word</th>\n",
              "      <th>count</th>\n",
              "    </tr>\n",
              "  </thead>\n",
              "  <tbody>\n",
              "    <tr>\n",
              "      <th>0</th>\n",
              "      <td>المتحده</td>\n",
              "      <td>9624</td>\n",
              "    </tr>\n",
              "    <tr>\n",
              "      <th>1</th>\n",
              "      <td>العام</td>\n",
              "      <td>7035</td>\n",
              "    </tr>\n",
              "    <tr>\n",
              "      <th>2</th>\n",
              "      <td>الامم</td>\n",
              "      <td>6454</td>\n",
              "    </tr>\n",
              "    <tr>\n",
              "      <th>3</th>\n",
              "      <td>الاعمال</td>\n",
              "      <td>5353</td>\n",
              "    </tr>\n",
              "    <tr>\n",
              "      <th>4</th>\n",
              "      <td>العالم</td>\n",
              "      <td>4601</td>\n",
              "    </tr>\n",
              "    <tr>\n",
              "      <th>5</th>\n",
              "      <td>العمل</td>\n",
              "      <td>3942</td>\n",
              "    </tr>\n",
              "    <tr>\n",
              "      <th>6</th>\n",
              "      <td>عبر</td>\n",
              "      <td>3784</td>\n",
              "    </tr>\n",
              "    <tr>\n",
              "      <th>7</th>\n",
              "      <td>شركه</td>\n",
              "      <td>3441</td>\n",
              "    </tr>\n",
              "    <tr>\n",
              "      <th>8</th>\n",
              "      <td>الامين</td>\n",
              "      <td>3422</td>\n",
              "    </tr>\n",
              "    <tr>\n",
              "      <th>9</th>\n",
              "      <td>الصحه</td>\n",
              "      <td>3359</td>\n",
              "    </tr>\n",
              "  </tbody>\n",
              "</table>\n",
              "</div>"
            ],
            "text/plain": [
              "      word  count\n",
              "0  المتحده   9624\n",
              "1    العام   7035\n",
              "2    الامم   6454\n",
              "3  الاعمال   5353\n",
              "4   العالم   4601\n",
              "5    العمل   3942\n",
              "6      عبر   3784\n",
              "7     شركه   3441\n",
              "8   الامين   3422\n",
              "9    الصحه   3359"
            ]
          },
          "metadata": {},
          "execution_count": 46
        }
      ],
      "id": "rDWs9HQsvJk6"
    },
    {
      "cell_type": "code",
      "metadata": {
        "id": "AUOkHuLtvJk6",
        "colab": {
          "base_uri": "https://localhost:8080/",
          "height": 373
        },
        "outputId": "d94cde26-3792-4784-d944-901e6b435719"
      },
      "source": [
        "words = []\n",
        "for item in words_df.word.values:\n",
        "    words.append(get_display(arabic_reshaper.reshape(f'{item}')))\n",
        "counts = list(words_df['count'])\n",
        "  \n",
        "fig = plt.figure(figsize = (10, 5))\n",
        " \n",
        "# creating the bar plot\n",
        "plt.bar(words, counts,width = 0.4)\n",
        "plt.xticks(rotation=45)\n",
        "\n",
        " \n",
        "plt.xlabel(\"Words\")\n",
        "plt.ylabel(\"Count\")\n",
        "plt.title(\"Words Distribution\")\n",
        "plt.show()"
      ],
      "execution_count": 47,
      "outputs": [
        {
          "output_type": "display_data",
          "data": {
            "image/png": "[encoded data removed]",
            "text/plain": [
              "<Figure size 720x360 with 1 Axes>"
            ]
          },
          "metadata": {
            "needs_background": "light"
          }
        }
      ],
      "id": "AUOkHuLtvJk6"
    }
  ]
}